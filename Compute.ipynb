{
 "cells": [
  {
   "cell_type": "code",
   "execution_count": 1,
   "metadata": {},
   "outputs": [],
   "source": [
    "import numpy as np\n",
    "import pandas as pd\n"
   ]
  },
  {
   "cell_type": "code",
   "execution_count": null,
   "metadata": {},
   "outputs": [],
   "source": [
    "prices = pd.read_csv(\"data_out/prices.csv\", parse_dates=[\"Date\"], index_col=\"Date\").sort_index()\n",
    "bench = pd.read_csv(\"data_out/benchmark.csv\", parse_dates=[\"Date\"])\n",
    "industry = pd.read_csv(\"data_out/industry.csv\")\n",
    "\n",
    "for df in [prices, bench]:\n",
    "    df[\"Date\"] = pd.to_datetime(df[\"Date\"]).dt.tz_localize(None)\n",
    "\n",
    "\n",
    "prices = (prices\n",
    "          .assign(Ticker=lambda d: d[\"Ticker\"].str.upper().str.strip())\n",
    "          .sort_values([\"Ticker\",\"Date\"])\n",
    "          .drop_duplicates([\"Ticker\",\"Date\"]))\n",
    "bench  = bench.sort_values(\"Date\").drop_duplicates([\"Date\",\"Benchmark\"])\n",
    "\n",
    "tickers = prices[\"Ticker\"].unique().tolist()\n",
    "\n",
    "\n"
   ]
  }
 ],
 "metadata": {
  "kernelspec": {
   "display_name": "py39",
   "language": "python",
   "name": "python3"
  },
  "language_info": {
   "codemirror_mode": {
    "name": "ipython",
    "version": 3
   },
   "file_extension": ".py",
   "mimetype": "text/x-python",
   "name": "python",
   "nbconvert_exporter": "python",
   "pygments_lexer": "ipython3",
   "version": "3.9.18"
  }
 },
 "nbformat": 4,
 "nbformat_minor": 2
}
