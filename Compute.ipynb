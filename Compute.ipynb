{
 "cells": [
  {
   "cell_type": "code",
   "execution_count": 4,
   "metadata": {},
   "outputs": [],
   "source": [
    "import numpy as np\n",
    "import pandas as pd\n",
    "import datetime\n"
   ]
  },
  {
   "cell_type": "code",
   "execution_count": null,
   "metadata": {},
   "outputs": [
    {
     "name": "stdout",
     "output_type": "stream",
     "text": [
      "           Ticker   AdjClose       Volume\n",
      "Date                                     \n",
      "2015-01-02   AAPL  24.261049  212818400.0\n",
      "2015-01-02    AMD   2.670000          0.0\n",
      "2015-01-02     PG  66.983505    7251400.0\n",
      "2015-01-02    PFE  19.017996   16371571.0\n",
      "2015-01-02    PEP  69.219101    3545700.0\n",
      "        Date Benchmark            AdjClose\n",
      "1 2015-01-02       SPY   171.5680389404297\n",
      "2 2015-01-05       SPY  168.46957397460938\n",
      "3 2015-01-06       SPY  166.88275146484375\n",
      "4 2015-01-07       SPY  168.96234130859375\n",
      "5 2015-01-08       SPY   171.9605712890625\n"
     ]
    }
   ],
   "source": [
    "\"\"\"\n",
    "Reading the daily prices and industy's, as well as the S&P benchmark data\n",
    " from the csv's of the data I pulled intodata frames for use.\n",
    "\"\"\"\n",
    "\n",
    "prices = pd.read_csv(\"data_out/prices.csv\", parse_dates=[\"Date\"], index_col=\"Date\").sort_index()\n",
    "bench = pd.read_csv(\"data_out/benchmark.csv\", parse_dates=[\"Date\"])\n",
    "industry = pd.read_csv(\"data_out/industry.csv\")\n",
    "\n",
    "prices = prices.dropna()\n",
    "bench = bench.dropna()\n",
    "\n",
    "\n",
    "print(prices.head())\n",
    "print(bench.head())\n",
    "\n",
    "\n"
   ]
  }
 ],
 "metadata": {
  "kernelspec": {
   "display_name": "py39",
   "language": "python",
   "name": "python3"
  },
  "language_info": {
   "codemirror_mode": {
    "name": "ipython",
    "version": 3
   },
   "file_extension": ".py",
   "mimetype": "text/x-python",
   "name": "python",
   "nbconvert_exporter": "python",
   "pygments_lexer": "ipython3",
   "version": "3.9.18"
  }
 },
 "nbformat": 4,
 "nbformat_minor": 2
}
